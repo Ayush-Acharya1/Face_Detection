{
  "nbformat": 4,
  "nbformat_minor": 0,
  "metadata": {
    "colab": {
      "provenance": [],
      "authorship_tag": "ABX9TyMDfQS/SQJrZLKyQNZJ01WW"
    },
    "kernelspec": {
      "name": "python3",
      "display_name": "Python 3"
    },
    "language_info": {
      "name": "python"
    }
  },
  "cells": [
    {
      "cell_type": "code",
      "execution_count": null,
      "metadata": {
        "id": "dDF12EqiSKJy"
      },
      "outputs": [],
      "source": [
        "import cv2\n",
        "from google.colab.patches import cv2_imshow\n",
        "\n",
        "#read image and convert to grayscale\n",
        "\n",
        "img=cv2.imread('ImagePath')\n",
        "gray=cv2.cvtColor(img,cv2.COLOR_BGR2GRAY)\n",
        "\n",
        "haar_cascade=cv2.CascadeClassifier('/content/haarcascade_frontalface_default.xml')\n",
        "\n",
        "#detects faces and counts the number of faces found.\n",
        "\n",
        "faces_rect=haar_cascade.detectMultiScale(gray,scaleFactor=1.1,minNeighbors=8)\n",
        "print(f'Number of faces are: {len(faces_rect)}')\n",
        "\n",
        "#draw rectangles around the faces\n",
        "for (x,y,w,h) in faces_rect:\n",
        "  cv2.rectangle(img,(x,y),(x+w,y+h),(0,255,0),thickness=2)\n",
        "\n",
        "cv2_imshow(img)"
      ]
    }
  ]
}